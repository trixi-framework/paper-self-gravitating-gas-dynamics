{
 "cells": [
  {
   "cell_type": "code",
   "execution_count": null,
   "metadata": {},
   "outputs": [],
   "source": [
    "import Pkg\n",
    "Pkg.activate(\".\")\n",
    "Pkg.instantiate()"
   ]
  },
  {
   "cell_type": "code",
   "execution_count": null,
   "metadata": {},
   "outputs": [],
   "source": [
    "using LinearAlgebra\n",
    "using LazySets, StaticArrays\n",
    "using MAT\n",
    "\n",
    "import PyPlot; plt = PyPlot\n",
    "\n",
    "using Trixi"
   ]
  },
  {
   "cell_type": "code",
   "execution_count": null,
   "metadata": {},
   "outputs": [],
   "source": [
    "A, b = Trixi.compute_linear_structure(\"parameters_hyp_diff_llf.toml\", Trixi.source_terms_harmonic)\n",
    "λ = eigvals(Matrix(A));"
   ]
  },
  {
   "cell_type": "code",
   "execution_count": null,
   "metadata": {},
   "outputs": [],
   "source": [
    "λ_convex = Vector(reinterpret(ComplexF64, convex_hull(Vector(reinterpret(SVector{2,Float64}, λ)))))\n",
    "\n",
    "matwrite(\"spectrum_p3.mat\", Dict(\"lambda\" => λ, \"lambda_convex\" => λ_convex); compress=true)\n",
    "\n",
    "plt.scatter(real.(λ), imag.(λ))\n",
    "plt.scatter(real.(λ_convex), imag.(λ_convex))\n",
    "extrema(real, λ)"
   ]
  },
  {
   "cell_type": "code",
   "execution_count": null,
   "metadata": {},
   "outputs": [],
   "source": []
  }
 ],
 "metadata": {
  "kernelspec": {
   "display_name": "Julia 1.5.0",
   "language": "julia",
   "name": "julia-1.5"
  },
  "language_info": {
   "file_extension": ".jl",
   "mimetype": "application/julia",
   "name": "julia",
   "version": "1.5.0"
  }
 },
 "nbformat": 4,
 "nbformat_minor": 4
}
